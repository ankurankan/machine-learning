{
 "cells": [
  {
   "cell_type": "code",
   "execution_count": 1,
   "metadata": {
    "collapsed": true
   },
   "outputs": [],
   "source": [
    "# Imports\n",
    "import numpy as np\n",
    "import matplotlib.pyplot as plt\n",
    "import random\n",
    "\n",
    "% matplotlib inline"
   ]
  },
  {
   "cell_type": "code",
   "execution_count": 87,
   "metadata": {
    "collapsed": true
   },
   "outputs": [],
   "source": [
    "# Parameters\n",
    "num_neurons = 10      # Number of neurons to use\n",
    "num_datapoints = 10   # Number of datapoints to generate\n",
    "\n",
    "num_burn_in = 500     # Burn-in period\n",
    "num_samples = 500     # Number of samples generated from the Boltzmann-Gibbs distribution\n",
    "\n",
    "learning_rate = 0.01  # Learning rate for gradient descent"
   ]
  },
  {
   "cell_type": "code",
   "execution_count": 88,
   "metadata": {
    "collapsed": false
   },
   "outputs": [],
   "source": [
    "# Generate the training dataset (the clamped datapoints)\n",
    "X_c = np.random.binomial(1, 0.5, (num_datapoints, num_neurons)) * 2 - 1"
   ]
  },
  {
   "cell_type": "code",
   "execution_count": 89,
   "metadata": {
    "collapsed": false
   },
   "outputs": [],
   "source": [
    "# Calculate statistics\n",
    "s1_c = np.sum(X_c, 0) / num_datapoints\n",
    "s2_c = np.dot(X_c.T, X_c) / num_datapoints"
   ]
  },
  {
   "cell_type": "code",
   "execution_count": 90,
   "metadata": {
    "collapsed": true
   },
   "outputs": [],
   "source": [
    "# Initialize the network\n",
    "w = np.random.normal(0, 1, (num_neurons, num_neurons))\n",
    "theta = np.random.normal(0, 1, (num_neurons,))"
   ]
  },
  {
   "cell_type": "code",
   "execution_count": 93,
   "metadata": {
    "collapsed": false
   },
   "outputs": [
    {
     "ename": "ValueError",
     "evalue": "The truth value of an array with more than one element is ambiguous. Use a.any() or a.all()",
     "output_type": "error",
     "traceback": [
      "\u001b[1;31m---------------------------------------------------------------------------\u001b[0m",
      "\u001b[1;31mValueError\u001b[0m                                Traceback (most recent call last)",
      "\u001b[1;32m<ipython-input-93-b256fdaa74ce>\u001b[0m in \u001b[0;36m<module>\u001b[1;34m()\u001b[0m\n\u001b[0;32m      9\u001b[0m     \u001b[1;31m# Take a random neuron\u001b[0m\u001b[1;33m\u001b[0m\u001b[1;33m\u001b[0m\u001b[0m\n\u001b[0;32m     10\u001b[0m     \u001b[0mneuron\u001b[0m \u001b[1;33m=\u001b[0m \u001b[0mrandom\u001b[0m\u001b[1;33m.\u001b[0m\u001b[0mrandint\u001b[0m\u001b[1;33m(\u001b[0m\u001b[1;36m1\u001b[0m\u001b[1;33m,\u001b[0m \u001b[0mnum_neurons\u001b[0m\u001b[1;33m)\u001b[0m \u001b[1;33m-\u001b[0m \u001b[1;36m1\u001b[0m\u001b[1;33m\u001b[0m\u001b[0m\n\u001b[1;32m---> 11\u001b[1;33m     \u001b[1;32mif\u001b[0m \u001b[0mflip_ratio\u001b[0m\u001b[1;33m[\u001b[0m\u001b[0mneuron\u001b[0m\u001b[1;33m]\u001b[0m \u001b[1;33m<\u001b[0m \u001b[1;36m1\u001b[0m\u001b[1;33m:\u001b[0m\u001b[1;33m\u001b[0m\u001b[0m\n\u001b[0m\u001b[0;32m     12\u001b[0m         \u001b[0ms\u001b[0m\u001b[1;33m[\u001b[0m\u001b[0mneuron\u001b[0m\u001b[1;33m]\u001b[0m \u001b[1;33m*=\u001b[0m \u001b[1;33m-\u001b[0m\u001b[1;36m1\u001b[0m\u001b[1;33m\u001b[0m\u001b[0m\n\u001b[0;32m     13\u001b[0m \u001b[1;33m\u001b[0m\u001b[0m\n",
      "\u001b[1;31mValueError\u001b[0m: The truth value of an array with more than one element is ambiguous. Use a.any() or a.all()"
     ]
    }
   ],
   "source": [
    "# Generate samples from the Boltzmann-Gibbs distribution\n",
    "s = np.random.binomial(1, 0.5, (num_neurons, 1)) * 2 - 1\n",
    "\n",
    "X = np.empty((0, num_neurons))\n",
    "for T in range(num_burn_in + num_samples):\n",
    "    # Calculate the ratio of flipping\n",
    "    flip_ratio = np.exp(2 * (np.dot(w, s) + theta) * s)\n",
    "\n",
    "    # Take a random neuron\n",
    "    neuron = random.randint(1, num_neurons) - 1\n",
    "    if flip_ratio[neuron] < 1:\n",
    "        s[neuron] *= -1\n",
    "\n",
    "    if T > num_burn_in:\n",
    "        X = np.vstack([X, s])"
   ]
  },
  {
   "cell_type": "code",
   "execution_count": 7,
   "metadata": {
    "collapsed": false
   },
   "outputs": [],
   "source": [
    "# Calculate statistics\n",
    "s1 = np.sum(X, 0) / num_samples\n",
    "s2 = np.dot(X.T, X) / num_samples"
   ]
  },
  {
   "cell_type": "code",
   "execution_count": 8,
   "metadata": {
    "collapsed": false
   },
   "outputs": [],
   "source": [
    "# Calculate gradients\n",
    "dLdtheta = s1_c - s1\n",
    "dLdw = s2_c - s2"
   ]
  },
  {
   "cell_type": "code",
   "execution_count": 9,
   "metadata": {
    "collapsed": false
   },
   "outputs": [],
   "source": [
    "# Find the minimum\n",
    "w = w + learning_rate * dLdtheta\n",
    "theta = theta + learning_rate * dLdtheta"
   ]
  },
  {
   "cell_type": "code",
   "execution_count": 47,
   "metadata": {
    "collapsed": false
   },
   "outputs": [
    {
     "data": {
      "text/plain": [
       "[<matplotlib.lines.Line2D at 0x7f4807dfdb70>]"
      ]
     },
     "execution_count": 47,
     "metadata": {},
     "output_type": "execute_result"
    },
    {
     "data": {
      "image/png": "[encoded data removed]",
      "text/plain": [
       "<matplotlib.figure.Figure at 0x7f4807ea2c88>"
      ]
     },
     "metadata": {},
     "output_type": "display_data"
    }
   ],
   "source": [
    "log_w = []\n",
    "learning_rate = 0.05\n",
    "num_samples = 500\n",
    "num_burn_in = 500\n",
    "num_neurons = 3\n",
    "\n",
    "# Quickly setup trainingset\n",
    "X_c = np.matrix([\n",
    "    [1, 1, 1],\n",
    "    [-1, 1, -1],\n",
    "    [1, -1, -1],\n",
    "    [-1, -1, 1]\n",
    "])\n",
    "s1_c = np.squeeze(np.asarray(np.sum(X_c, 0) / num_datapoints))\n",
    "s2_c = np.dot(X_c.T, X_c) / num_datapoints\n",
    "\n",
    "# Initialize the network\n",
    "w = np.random.normal(0, 1, (num_neurons, num_neurons))\n",
    "theta = np.random.normal(0, 1, (num_neurons,))\n",
    "\n",
    "for _ in range(200):\n",
    "    # Generate samples from the Boltzmann-Gibbs distribution\n",
    "    s = np.random.binomial(1, 0.5, (num_neurons,)) * 2 - 1\n",
    "    X = np.empty((0, num_neurons))\n",
    "    for T in range(num_burn_in + num_samples):\n",
    "        # Calculate the ratio of flipping\n",
    "        flip_ratio = np.exp(2 * np.multiply((np.dot(w, s) + theta), s))\n",
    "\n",
    "        # Take a random neuron\n",
    "        neuron = random.randint(1, num_neurons) - 1\n",
    "        if flip_ratio[neuron] < 1:\n",
    "            s[neuron] *= -1\n",
    "\n",
    "        if T > num_burn_in:\n",
    "            X = np.vstack([X, s])\n",
    "\n",
    "    # Calculate statistics\n",
    "    s1 = np.sum(X, 0) / num_samples\n",
    "    s2 = np.dot(X.T, X) / num_samples\n",
    "\n",
    "    # Calculate gradients\n",
    "    dLdtheta = s1_c - s1\n",
    "    dLdw = s2_c - s2\n",
    "\n",
    "    # Find the minimum\n",
    "    w = w + learning_rate * dLdtheta\n",
    "    theta = theta + learning_rate * dLdtheta\n",
    "    log_w.append(np.sum(np.abs(w)))\n",
    "    \n",
    "plt.plot(log_w)"
   ]
  },
  {
   "cell_type": "code",
   "execution_count": null,
   "metadata": {
    "collapsed": true
   },
   "outputs": [],
   "source": []
  }
 ],
 "metadata": {
  "anaconda-cloud": {},
  "kernelspec": {
   "display_name": "Python [Root]",
   "language": "python",
   "name": "Python [Root]"
  },
  "language_info": {
   "codemirror_mode": {
    "name": "ipython",
    "version": 3
   },
   "file_extension": ".py",
   "mimetype": "text/x-python",
   "name": "python",
   "nbconvert_exporter": "python",
   "pygments_lexer": "ipython3",
   "version": "3.5.2"
  }
 },
 "nbformat": 4,
 "nbformat_minor": 0
}
