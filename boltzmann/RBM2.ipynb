{
 "cells": [
  {
   "cell_type": "code",
   "execution_count": 52,
   "metadata": {
    "collapsed": false
   },
   "outputs": [],
   "source": [
    "from sklearn.neural_network import BernoulliRBM\n",
    "import scipy.io\n",
    "import numpy as np\n",
    "\n",
    "class DataLoader:\n",
    "    \"\"\"\n",
    "    Class for loading the MatLab data.\n",
    "    \"\"\"\n",
    "\n",
    "    def __init__(self, file):\n",
    "        \"\"\"\n",
    "        Load the data from the given file.\n",
    "\n",
    "        :param file: Path to file to load the data from (without the .mat extension).\n",
    "        :param flip_rate: Rate for flipping bits randomly, 0 means no flipping and 1 means all flipped and the\n",
    "                          maximum entropy is obtained for flip_rate = 0.5.\n",
    "        \"\"\"\n",
    "        self.data = scipy.io.loadmat(file, squeeze_me=True, struct_as_record=False)['mnist']\n",
    "        self.train_images = self.data.train_images\n",
    "        self.test_images = self.data.test_images\n",
    "        self.train_labels = self.data.train_labels\n",
    "        self.test_labels = self.data.test_labels\n",
    "\n",
    "    def load_images(self, flip_rate=0):\n",
    "        self.train_images = self.transform_images(self.train_images)\n",
    "        self.test_images = self.transform_images(self.test_images)\n",
    "        if flip_rate > 0:\n",
    "            noise = np.random.binomial(1, flip_rate, self.train_images.shape)\n",
    "            self.train_images = np.multiply(self.train_images, noise)\n",
    "\n",
    "    def transform_images(self, data):\n",
    "        \"\"\"\n",
    "        Convert a (m x n x p) array to a (p x m x n) array and apply some additional transformations.\n",
    "\n",
    "        :param data: Data to transform.\n",
    "        :return: Transformed data.\n",
    "        \"\"\"\n",
    "        reshaped = data.reshape(data.shape[0] * data.shape[1], data.shape[2])\n",
    "        swapped_axes = np.swapaxes(reshaped, 0, 1)\n",
    "        return (swapped_axes > 122)"
   ]
  },
  {
   "cell_type": "code",
   "execution_count": 53,
   "metadata": {
    "collapsed": false
   },
   "outputs": [],
   "source": [
    "data = DataLoader('mnistAll')\n",
    "data.load_images(0.1)"
   ]
  },
  {
   "cell_type": "code",
   "execution_count": 54,
   "metadata": {
    "collapsed": false
   },
   "outputs": [
    {
     "name": "stdout",
     "output_type": "stream",
     "text": [
      "Training RBM for digit 0...\n",
      "Training RBM for digit 1...\n",
      "Training RBM for digit 2...\n",
      "Training RBM for digit 3...\n",
      "Training RBM for digit 4...\n",
      "Training RBM for digit 5...\n",
      "Training RBM for digit 6...\n",
      "Training RBM for digit 7...\n",
      "Training RBM for digit 8...\n",
      "Training RBM for digit 9...\n"
     ]
    }
   ],
   "source": [
    "import pickle\n",
    "\n",
    "for digit in range(0, 10):\n",
    "    print('Training RBM for digit %d...' % digit)\n",
    "    clf = BernoulliRBM(random_state=0, n_components=5)\n",
    "    clf.fit(data.train_images[data.train_labels == digit])\n",
    "    with open('rbm_%d.pickle' % digit, 'wb') as file:\n",
    "       pickle.dump(clf, file)"
   ]
  },
  {
   "cell_type": "code",
   "execution_count": 55,
   "metadata": {
    "collapsed": true
   },
   "outputs": [],
   "source": [
    "import pickle\n",
    "\n",
    "clf = {}\n",
    "for digit in range(0, 10):\n",
    "    with open('rbm_%d.pickle' % digit, 'rb') as file:\n",
    "        clf[digit] = pickle.load(file)"
   ]
  },
  {
   "cell_type": "code",
   "execution_count": 73,
   "metadata": {
    "collapsed": false
   },
   "outputs": [
    {
     "name": "stdout",
     "output_type": "stream",
     "text": [
      "[-61.662425133763172, -7.280690902213216, -1.6794313909338709, -37.225608554045472, -57.212340366381355, -28.093007136522125, -0.2981308818538419, -45.904345110566318, -15.096450046524659, -19.539801033896289]\n",
      "6\n"
     ]
    },
    {
     "data": {
      "image/png": "[encoded data removed]",
      "text/plain": [
       "<matplotlib.figure.Figure at 0x7f6dc6722eb8>"
      ]
     },
     "metadata": {},
     "output_type": "display_data"
    }
   ],
   "source": [
    "% matplotlib inline\n",
    "import matplotlib.pyplot as plt\n",
    "\n",
    "index = 2\n",
    "plt.imshow(data.test_images[index, :].reshape(28, 28))\n",
    "number = np.squeeze(np.asarray(data.test_images[index, :]))\n",
    "scores = []\n",
    "for digit in range(0, 10):\n",
    "    score = clf[digit].score_samples(number.reshape(1, -1))\n",
    "    scores.append(score)\n",
    "print(scores)\n",
    "print(np.argmax(scores))"
   ]
  },
  {
   "cell_type": "code",
   "execution_count": null,
   "metadata": {
    "collapsed": true
   },
   "outputs": [],
   "source": []
  }
 ],
 "metadata": {
  "kernelspec": {
   "display_name": "Python [Root]",
   "language": "python",
   "name": "Python [Root]"
  },
  "language_info": {
   "codemirror_mode": {
    "name": "ipython",
    "version": 3
   },
   "file_extension": ".py",
   "mimetype": "text/x-python",
   "name": "python",
   "nbconvert_exporter": "python",
   "pygments_lexer": "ipython3",
   "version": "3.5.2"
  }
 },
 "nbformat": 4,
 "nbformat_minor": 0
}
