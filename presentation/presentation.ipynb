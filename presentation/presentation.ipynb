{
 "cells": [
  {
   "cell_type": "markdown",
   "metadata": {
    "nbpresent": {
     "id": "5bb68500-4ef8-4f4e-83c0-186d12510427"
    }
   },
   "source": [
    "## Introduction to Boltzmann Machine\n",
    "\n",
    "Boltzmann machine is a general learning rule applicable to any stochastic network with symmetric connections. <br />\n",
    "It was firstly introduced by Hinton and Sejnowski in 1983. The name Boltamann machine is because the probability of the states of the system is given by the Boltzmann-Gibbs distribution of statistical mechanics. <br />"
   ]
  },
  {
   "cell_type": "markdown",
   "metadata": {
    "nbpresent": {
     "id": "3f27956d-dbf4-4f1e-9b3a-353a5f2f0c5d"
    }
   },
   "source": [
    "## Learning rule\n",
    "The central rule for Boltzmann machine are:<br />\n",
    "$$\\frac{\\partial L}{\\partial \\theta_i} = \\langle S_i \\rangle_c - \\langle S_i \\rangle$$\n",
    "$$\\frac{\\partial L}{\\partial w_{ij}} = \\langle S_iS_j \\rangle_c - \\langle S_iS_j \\rangle$$\n",
    "\n",
    "Here the two formulas are the gradients of the log likelihood of observed data with respect to biases and weights. The clamped data is an expected value in the data distribution. The un-clamped data is an expected value when the Boltzmann machine is sampling state vectors from its equilibrium distribution at a particular temperature.<br />"
   ]
  },
  {
   "cell_type": "markdown",
   "metadata": {
    "nbpresent": {
     "id": "109921de-1338-4425-8463-091fd8c52ccb"
    }
   },
   "source": [
    "## Main learning process\n",
    "The learning process will adjust the weights and biases in each iteration using these two formulas until convergence. <br />\n",
    "Every time we need to calculate $\\langle S_iS_j \\rangle$ and  $\\langle S_i \\rangle$ in both clamped and un-clamped state for each pattern. <br />\n",
    "To calculate them, we must come the equilibrium and sample many units from its equilibrium distribution at a temperature."
   ]
  },
  {
   "cell_type": "markdown",
   "metadata": {
    "nbpresent": {
     "id": "27bb595c-1029-4e0c-9092-887227d6353b"
    }
   },
   "source": [
    "## Deterministic Boltzmann machine\n",
    "In the original form, the Boltzmann learning algorithm is very slow because of the need for extensive stochastic variables, in particular the un-clamped$\\langle S_iS_j \\rangle$.  <br />\n",
    "There are few applications compared with back-propagation, and the mean filed theory version is mainly considered. <br />"
   ]
  },
  {
   "cell_type": "markdown",
   "metadata": {
    "collapsed": true,
    "nbpresent": {
     "id": "ca691840-71ab-4bc8-8f0e-33189ed4be86"
    }
   },
   "source": [
    "## Normalizing Constant\n",
    "\n",
    "In the learning procedure, probabilities of state vectors are needed in order to compute the gradients. For these probabilities, a normalizing constant is needed. This requires to sum over all possible $2^n$ states where $n$ is the number of units - which takes a very long time.\n",
    "\n",
    "In the first part of the assignment, we approximated the normalizing constant as follows. Since all the probabilities should sum up to $1$, we know that:\n",
    "\n",
    "$\\begin{align}\n",
    "1 = \\frac{1}{Z} \\sum\\limits_{\\textbf{s}} \\exp(-E(\\textbf{s} ))\n",
    "\\end{align}$\n",
    "\n",
    "So therefore, $Z = \\sum\\limits_{\\textbf{s}} \\exp(-E(\\textbf{s} ))$. The states that contribute the most to $Z$ are the states with low energies.\n"
   ]
  },
  {
   "cell_type": "markdown",
   "metadata": {
    "nbpresent": {
     "id": "fc19a046-f7ee-4430-ad52-392b11772b6e"
    }
   },
   "source": [
    "\n",
    "### Sequential Dynamics\n",
    "\n",
    "With sequential dynamics, a random state is initialized. Then, one of the neurons is picked and is changed according to the Boltzmann-Gibbs distribution. This is repeated many times. The energy of the system will be minimized and therefore states can be sampled which have low energy. Now we can approximate $Z$ be summing over these sampled states. Other states will contribute less to $Z$ and will be neglected.\n"
   ]
  },
  {
   "cell_type": "markdown",
   "metadata": {
    "nbpresent": {
     "id": "9843a401-905d-4dd8-a49b-cb104c036805"
    }
   },
   "source": [
    "\n",
    "### Mean Field Approximation\n",
    "\n",
    "Using Mean Field Approximation, $Z$ is approximated by calculated the free energy in the system and then calculate $Z$ directly from it using $Z = \\exp(-F)$. This is way faster, because we do not need to take samples from the Boltzmann-Gibbs distribution in order to train the Boltzmann Machine.\n"
   ]
  },
  {
   "cell_type": "markdown",
   "metadata": {
    "nbpresent": {
     "id": "6dfcfc4b-5550-4f4f-bae3-ebdd74d24476"
    }
   },
   "source": [
    "\n",
    "### Conclusion\n",
    "\n",
    "Use the Mean Field Approximation whenever this is possible to avoid the computational burden on computing the normalizing constant. Otherwise, take samples from the Boltzmann-Gibbs distribution and approximate the normalizing constant and if the number of units is extremely small, $Z$ can be computed by bruteforcing all possible states."
   ]
  },
  {
   "cell_type": "markdown",
   "metadata": {
    "nbpresent": {
     "id": "05dd25e5-3253-416e-9763-6091f4df721d"
    }
   },
   "source": [
    "## Results\n",
    "\n",
    "### First part of the assignment\n",
    "\n",
    "We were asked to generate training samples and use a Boltzmann Machine consisting of $10$ neurons. In order to compute the normalizing constant, we used the sampling approach as we described. We use $500$ steps of sequential dynamics, but we throw away some burn-in samples. In total, we use $100$ burn-in samples and we use $400$ samples generated in the low energy state."
   ]
  },
  {
   "cell_type": "markdown",
   "metadata": {
    "nbpresent": {
     "id": "1155ba12-1541-4206-bdd4-62cb3c945526"
    }
   },
   "source": [
    "### Convergence\n",
    "\n",
    "Convergence for the first part of the assignment is visible in the next plot. The blue line is the absolute change in the weights and the yellow line shows the absolute change in the biases.\n",
    "\n",
    "<img src=\"files/convergence.png\" />\n",
    "\n",
    "We tried to capture the convergence of the absolute change in weights using a linear model on the change in weights and by plotting the slopes for different configurations. We use input consisting of $10$ components, $150$ iterations of the learning algorithm and we take different numbers of burn-in samples and of samples that we actually use. The learning rate is fixed to $0.05$. A linear model for the convergence is not realistic, but we hope to see some behaviour. The following plot shows two different configurations and a linear fit on the change in weights (and also shows that a linear model is not the best model since both pictures have an equivalent slope).\n",
    "\n",
    "<img src=\"files/slopes.png\" />"
   ]
  },
  {
   "cell_type": "markdown",
   "metadata": {
    "nbpresent": {
     "id": "919b2284-895b-4c9c-8704-f05e7207865d"
    }
   },
   "source": [
    "It gives however very low slopes for either fast or slow converging change of weights. If we now plot the slope of the linear fit per configuration, we get the following result:\n",
    "\n",
    "<img src=\"files/burnin.png\" />\n",
    "\n",
    "The only thing that can be seen, is that there is very little change in weights when the number of samples sampled from the Boltzmann-Gibbs distribution is extremely low (say $1$). If we plot such a case, we can clearly see that this is the case:\n",
    "\n",
    "<img src=\"files/bad.png\" />\n",
    "\n",
    "For the final report, we will look for other measures of convergence and then figure out which configurations work best."
   ]
  },
  {
   "cell_type": "markdown",
   "metadata": {
    "nbpresent": {
     "id": "2d61bbe5-d31a-41a9-8f64-305d271cf27d"
    }
   },
   "source": [
    "### Second part of the assignment\n",
    "\n",
    "For the second part of the assignment, we use MNIST data consisting of $28 \\times 28$ images. Some samples with $10\\%$ noise are shown in the following image:\n",
    "\n",
    "<img src=\"files/mnist.png\" />"
   ]
  },
  {
   "cell_type": "markdown",
   "metadata": {
    "nbpresent": {
     "id": "6b710ca6-15d9-4297-a19f-064acae96401"
    }
   },
   "source": [
    "The images are converted to binary images. We indeed found similar results as reported in the assignment description. The next image shows the confusion matrix. We got $23$ errors out of $500$ test images, so an overall accuracy of $95\\%$.\n",
    "\n",
    "<img src=\"files/confusion_matrix.png\" />\n",
    "\n",
    "We wondered how different levels of noise would influence the accuracy. We ran $10$ rounds for cross validation and we computed the accuracy for different noise levels. First, I will explain how we defined the noise and then I will talk about the results."
   ]
  },
  {
   "cell_type": "markdown",
   "metadata": {
    "nbpresent": {
     "id": "7f5a80a9-eb68-4aa6-b9c5-8a99890bd402"
    }
   },
   "source": [
    "\n",
    "#### Definition of noise\n",
    "For each pixel, a noise mask is created. Every pixel in the mask has value $-1$ with probability $p_{\\mbox{noise}}$ and value $1$ with probability $1 - p_{\\mbox{noise}}$. Then, element-wise multiplication is applied on the original image with the mask.\n",
    "\n",
    "For $p_{\\mbox{noise}}=0$, there is no distortion of the original images. For $p_{\\mbox{noise}}=1$, every bit is flipped and the structures in the original images remain. For $p_{\\mbox{noise}}=0.5$, maximum noise is obtained and there is no structure in the images.\n",
    "\n",
    "<img src=\"files/noise.png\" />\n"
   ]
  },
  {
   "cell_type": "markdown",
   "metadata": {
    "nbpresent": {
     "id": "267e0018-136d-47bf-9ce4-917d4cc9d11b"
    }
   },
   "source": [
    "\n",
    "#### Noise level versus accuracy\n",
    "In the following plot, the results are shown. It can be seen that $p_{\\mbox{noise}} \\approx 0.10$ is optimal. Furthermore, there are some interesting spots in the plot.\n",
    "\n",
    "<img src=\"files/noise-vs-accuracy.png\" />\n"
   ]
  },
  {
   "cell_type": "markdown",
   "metadata": {
    "nbpresent": {
     "id": "14f78997-54c2-4af4-978b-bd717ed11a2a"
    }
   },
   "source": [
    "\n",
    "##### Why is there a low accuracy for $0.00 \\le p_{\\mbox{noise}} \\le 0.03$?\n",
    "\n",
    "Because when there is a low noise level, there are pixels without any change. Take for example the left-most pixel in each image. This pixel is off in all the images. The learning algorithm cannot cope with constant pixels, so at least some noise should be added.\n",
    "\n",
    "Then, there will be multiple zeroes on the diagonal of the $C$ matrix used in the learning procedure. In the learning procedure, this matrix is inverted. In some cases it will not be possible to invert this matrix because of these zeroes. That is one explanation for the low accuracy between $0.00$ and $0.03$.\n"
   ]
  },
  {
   "cell_type": "markdown",
   "metadata": {
    "nbpresent": {
     "id": "e6507744-c701-4792-9e37-1c5ce3419d3f"
    }
   },
   "source": [
    "\n",
    "##### Dip at $0.48$ and accuracy at $0.50$\n",
    "We could not find an explanation for the dip for $p_{\\mbox{noise}} \\approx 0.48$. The accuracy $0.10$ for $p_{\\mbox{noise}} = 0.50$ is explained by the fact that since the image is completely random. Since the image is completely random, the classifier acts the same as a random guess. By chance, guessing the correct number is indeed $\\frac{1}{10}$."
   ]
  },
  {
   "cell_type": "markdown",
   "metadata": {
    "nbpresent": {
     "id": "c0522e3e-f012-4883-b282-4233df7e560a"
    }
   },
   "source": [
    "## Conclusion\n",
    "\n",
    "Use the Mean Field Approximation whenever this is possible to avoid the computational burden on computing the normalizing constant. Otherwise, take samples from the Boltzmann-Gibbs distribution and approximate the normalizing constant and if the number of units is extremely small, $Z$ can be computed by bruteforcing all possible states.\n",
    "For the MNIST dataset, a noise level of about $10\\%$ works best. This is the only parameter in the Boltzmann Machine model as described as in the assignment using the Mean Field approximation for the normalizing constant."
   ]
  }
 ],
 "metadata": {
  "anaconda-cloud": {},
  "kernelspec": {
   "display_name": "Python [Root]",
   "language": "python",
   "name": "Python [Root]"
  },
  "language_info": {
   "codemirror_mode": {
    "name": "ipython",
    "version": 3
   },
   "file_extension": ".py",
   "mimetype": "text/x-python",
   "name": "python",
   "nbconvert_exporter": "python",
   "pygments_lexer": "ipython3",
   "version": "3.5.2"
  },
  "nbpresent": {
   "slides": {
    "0fce8b92-92c0-40d9-bb65-6b58b4ed5bab": {
     "id": "0fce8b92-92c0-40d9-bb65-6b58b4ed5bab",
     "prev": "a4c82bff-2ee0-4581-adfe-760eae61d65a",
     "regions": {
      "df17afc0-8acc-4250-ad13-3d480460b4d8": {
       "attrs": {
        "height": 0.8,
        "width": 0.8,
        "x": 0.1,
        "y": 0.1
       },
       "content": {
        "cell": "919b2284-895b-4c9c-8704-f05e7207865d",
        "part": "whole"
       },
       "id": "df17afc0-8acc-4250-ad13-3d480460b4d8"
      }
     }
    },
    "1126edcd-3c2a-4d5f-9107-5b386311b7b0": {
     "id": "1126edcd-3c2a-4d5f-9107-5b386311b7b0",
     "prev": "3d3e920d-043c-4e5c-8d9c-a05ebe178136",
     "regions": {
      "74364b77-6d89-4a16-a743-bbf3bd2ffdbe": {
       "attrs": {
        "height": 0.8,
        "width": 0.8,
        "x": 0.1,
        "y": 0.1
       },
       "content": {
        "cell": "c0522e3e-f012-4883-b282-4233df7e560a",
        "part": "whole"
       },
       "id": "74364b77-6d89-4a16-a743-bbf3bd2ffdbe"
      }
     }
    },
    "1538b648-b92e-4a96-942f-175f869707df": {
     "id": "1538b648-b92e-4a96-942f-175f869707df",
     "prev": "7b366bc0-f213-4da7-982e-752d6a7fdbeb",
     "regions": {
      "55857152-89b7-4215-a1b8-68e5675268bb": {
       "attrs": {
        "height": 0.8,
        "width": 0.8,
        "x": 0.1,
        "y": 0.1
       },
       "content": {
        "cell": "6b710ca6-15d9-4297-a19f-064acae96401",
        "part": "whole"
       },
       "id": "55857152-89b7-4215-a1b8-68e5675268bb"
      }
     }
    },
    "16ce77c7-2960-4342-a631-269ae0c73fce": {
     "id": "16ce77c7-2960-4342-a631-269ae0c73fce",
     "prev": "1538b648-b92e-4a96-942f-175f869707df",
     "regions": {
      "3f7c0605-a192-4bc7-a4c9-4df03d94c534": {
       "attrs": {
        "height": 0.8,
        "width": 0.8,
        "x": 0.1,
        "y": 0.1
       },
       "content": {
        "cell": "7f5a80a9-eb68-4aa6-b9c5-8a99890bd402",
        "part": "whole"
       },
       "id": "3f7c0605-a192-4bc7-a4c9-4df03d94c534"
      }
     }
    },
    "29b45e9a-84f1-4a24-bb91-c7bf43882a8c": {
     "id": "29b45e9a-84f1-4a24-bb91-c7bf43882a8c",
     "prev": null,
     "regions": {
      "b30df96a-d806-4202-af39-dab97f07ee26": {
       "attrs": {
        "height": 0.8,
        "width": 0.8,
        "x": 0.1,
        "y": 0.1
       },
       "content": {
        "cell": "5bb68500-4ef8-4f4e-83c0-186d12510427",
        "part": "whole"
       },
       "id": "b30df96a-d806-4202-af39-dab97f07ee26"
      }
     },
     "theme": null
    },
    "3d3e920d-043c-4e5c-8d9c-a05ebe178136": {
     "id": "3d3e920d-043c-4e5c-8d9c-a05ebe178136",
     "prev": "e298928b-e970-4ebe-9c02-ad909925b545",
     "regions": {
      "a3d11572-b3e6-45ad-88eb-19f0fbcc4abd": {
       "attrs": {
        "height": 0.8,
        "width": 0.8,
        "x": 0.1,
        "y": 0.1
       },
       "content": {
        "cell": "e6507744-c701-4792-9e37-1c5ce3419d3f",
        "part": "whole"
       },
       "id": "a3d11572-b3e6-45ad-88eb-19f0fbcc4abd"
      }
     }
    },
    "4667e9eb-3d15-4c8e-8487-f21cffe767d2": {
     "id": "4667e9eb-3d15-4c8e-8487-f21cffe767d2",
     "prev": "7a0eb929-2d89-4ff5-851c-e0b05ef81b75",
     "regions": {
      "845555a4-5d4b-42c3-80c8-9efac65a4376": {
       "attrs": {
        "height": 0.8,
        "width": 0.8,
        "x": 0.1,
        "y": 0.1
       },
       "content": {
        "cell": "27bb595c-1029-4e0c-9092-887227d6353b",
        "part": "whole"
       },
       "id": "845555a4-5d4b-42c3-80c8-9efac65a4376"
      }
     }
    },
    "547e588c-2078-42ef-abd7-b31c85f5ff93": {
     "id": "547e588c-2078-42ef-abd7-b31c85f5ff93",
     "prev": "ca1891a2-4531-45ef-acc8-c1b70eb4cf2e",
     "regions": {
      "0436abc4-c608-47a2-aad6-4edb533beb44": {
       "attrs": {
        "height": 0.8,
        "width": 0.8,
        "x": 0.1,
        "y": 0.1
       },
       "content": {
        "cell": "9843a401-905d-4dd8-a49b-cb104c036805",
        "part": "whole"
       },
       "id": "0436abc4-c608-47a2-aad6-4edb533beb44"
      }
     }
    },
    "66ab12a1-db37-4900-b42c-dc1eb8cacc08": {
     "id": "66ab12a1-db37-4900-b42c-dc1eb8cacc08",
     "prev": "16ce77c7-2960-4342-a631-269ae0c73fce",
     "regions": {
      "fe416002-0436-45cf-bd23-60159c317657": {
       "attrs": {
        "height": 0.8,
        "width": 0.8,
        "x": 0.1,
        "y": 0.1
       },
       "content": {
        "cell": "267e0018-136d-47bf-9ce4-917d4cc9d11b",
        "part": "whole"
       },
       "id": "fe416002-0436-45cf-bd23-60159c317657"
      }
     }
    },
    "7973d543-a99f-406a-9618-59588d038b2c": {
     "id": "7973d543-a99f-406a-9618-59588d038b2c",
     "prev": "547e588c-2078-42ef-abd7-b31c85f5ff93",
     "regions": {
      "117eeb17-dd15-403d-b184-02e98efff486": {
       "attrs": {
        "height": 0.8,
        "width": 0.8,
        "x": 0.1,
        "y": 0.1
       },
       "content": {
        "cell": "6dfcfc4b-5550-4f4f-bae3-ebdd74d24476",
        "part": "whole"
       },
       "id": "117eeb17-dd15-403d-b184-02e98efff486"
      }
     }
    },
    "7a0eb929-2d89-4ff5-851c-e0b05ef81b75": {
     "id": "7a0eb929-2d89-4ff5-851c-e0b05ef81b75",
     "prev": "f9813a66-c94e-4f38-b340-875b32935c98",
     "regions": {
      "c82396f7-03e5-419f-8e7d-76d60b241117": {
       "attrs": {
        "height": 0.8,
        "width": 0.8,
        "x": 0.1,
        "y": 0.1
       },
       "content": {
        "cell": "109921de-1338-4425-8463-091fd8c52ccb",
        "part": "whole"
       },
       "id": "c82396f7-03e5-419f-8e7d-76d60b241117"
      }
     }
    },
    "7b366bc0-f213-4da7-982e-752d6a7fdbeb": {
     "id": "7b366bc0-f213-4da7-982e-752d6a7fdbeb",
     "prev": "0fce8b92-92c0-40d9-bb65-6b58b4ed5bab",
     "regions": {
      "0adb45c2-400a-4a0d-8185-c8a6622939c1": {
       "attrs": {
        "height": 0.8,
        "width": 0.8,
        "x": 0.1,
        "y": 0.1
       },
       "content": {
        "cell": "2d61bbe5-d31a-41a9-8f64-305d271cf27d",
        "part": "whole"
       },
       "id": "0adb45c2-400a-4a0d-8185-c8a6622939c1"
      }
     }
    },
    "8196b57e-5094-43ff-a330-a39b71080c70": {
     "id": "8196b57e-5094-43ff-a330-a39b71080c70",
     "prev": "4667e9eb-3d15-4c8e-8487-f21cffe767d2",
     "regions": {
      "ee59ef2d-3d39-43e1-a8ca-3b57f7956e88": {
       "attrs": {
        "height": 0.8,
        "width": 0.8,
        "x": 0.1,
        "y": 0.1
       },
       "content": {
        "cell": "ca691840-71ab-4bc8-8f0e-33189ed4be86",
        "part": "whole"
       },
       "id": "ee59ef2d-3d39-43e1-a8ca-3b57f7956e88"
      }
     }
    },
    "a4c82bff-2ee0-4581-adfe-760eae61d65a": {
     "id": "a4c82bff-2ee0-4581-adfe-760eae61d65a",
     "prev": "e2bd8e6d-6b88-44a5-a7ce-9f16397403bb",
     "regions": {
      "72ae3b89-1704-48fa-8df1-bf22e661710c": {
       "attrs": {
        "height": 0.8,
        "width": 0.8,
        "x": 0.1,
        "y": 0.1
       },
       "content": {
        "cell": "1155ba12-1541-4206-bdd4-62cb3c945526",
        "part": "whole"
       },
       "id": "72ae3b89-1704-48fa-8df1-bf22e661710c"
      }
     }
    },
    "c3a1b8ed-44f5-4479-a9b4-3166d6fc3051": {
     "id": "c3a1b8ed-44f5-4479-a9b4-3166d6fc3051",
     "prev": "1126edcd-3c2a-4d5f-9107-5b386311b7b0",
     "regions": {
      "022e1405-1f87-4405-952a-0a762ca49a5e": {
       "attrs": {
        "height": 0.8,
        "width": 0.8,
        "x": 0.1,
        "y": 0.1
       },
       "content": {
        "cell": "6fc09565-9cba-418d-96b9-8c0cc67eb2a1",
        "part": "whole"
       },
       "id": "022e1405-1f87-4405-952a-0a762ca49a5e"
      }
     }
    },
    "ca1891a2-4531-45ef-acc8-c1b70eb4cf2e": {
     "id": "ca1891a2-4531-45ef-acc8-c1b70eb4cf2e",
     "prev": "8196b57e-5094-43ff-a330-a39b71080c70",
     "regions": {
      "391652d3-8a5a-49ef-8e33-6108bb3fb793": {
       "attrs": {
        "height": 0.8,
        "width": 0.8,
        "x": 0.1,
        "y": 0.1
       },
       "content": {
        "cell": "fc19a046-f7ee-4430-ad52-392b11772b6e",
        "part": "whole"
       },
       "id": "391652d3-8a5a-49ef-8e33-6108bb3fb793"
      }
     }
    },
    "e298928b-e970-4ebe-9c02-ad909925b545": {
     "id": "e298928b-e970-4ebe-9c02-ad909925b545",
     "prev": "66ab12a1-db37-4900-b42c-dc1eb8cacc08",
     "regions": {
      "13f3a584-23cd-45e4-b211-da0924bc72a0": {
       "attrs": {
        "height": 0.8,
        "width": 0.8,
        "x": 0.1,
        "y": 0.1
       },
       "content": {
        "cell": "14f78997-54c2-4af4-978b-bd717ed11a2a",
        "part": "whole"
       },
       "id": "13f3a584-23cd-45e4-b211-da0924bc72a0"
      }
     }
    },
    "e2bd8e6d-6b88-44a5-a7ce-9f16397403bb": {
     "id": "e2bd8e6d-6b88-44a5-a7ce-9f16397403bb",
     "prev": "7973d543-a99f-406a-9618-59588d038b2c",
     "regions": {
      "3010e8a2-d4ce-4caf-9044-1906eb015e5d": {
       "attrs": {
        "height": 0.8,
        "width": 0.8,
        "x": 0.1,
        "y": 0.1
       },
       "content": {
        "cell": "05dd25e5-3253-416e-9763-6091f4df721d",
        "part": "whole"
       },
       "id": "3010e8a2-d4ce-4caf-9044-1906eb015e5d"
      }
     }
    },
    "f9813a66-c94e-4f38-b340-875b32935c98": {
     "id": "f9813a66-c94e-4f38-b340-875b32935c98",
     "prev": "29b45e9a-84f1-4a24-bb91-c7bf43882a8c",
     "regions": {
      "b2dba3b3-4f2b-4c63-aaa4-c9a152bb07ec": {
       "attrs": {
        "height": 0.8,
        "width": 0.8,
        "x": 0.1,
        "y": 0.1
       },
       "content": {
        "cell": "3f27956d-dbf4-4f1e-9b3a-353a5f2f0c5d",
        "part": "whole"
       },
       "id": "b2dba3b3-4f2b-4c63-aaa4-c9a152bb07ec"
      }
     }
    }
   },
   "themes": {}
  }
 },
 "nbformat": 4,
 "nbformat_minor": 0
}
